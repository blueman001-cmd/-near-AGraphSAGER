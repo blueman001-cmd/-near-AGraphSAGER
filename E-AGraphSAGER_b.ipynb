{
 "cells": [
  {
   "cell_type": "code",
   "execution_count": 1,
   "id": "0f7c6240-f623-4398-86d9-baf95772ca25",
   "metadata": {},
   "outputs": [],
   "source": [
    "from dgl import from_networkx\n",
    "import dgl\n",
    "import torch.nn as nn\n",
    "import torch as th\n",
    "import torch.nn.functional as F\n",
    "import dgl.function as fn\n",
    "import networkx as nx\n",
    "import pandas as pd\n",
    "import socket\n",
    "import struct\n",
    "import random\n",
    "from sklearn.preprocessing import StandardScaler\n",
    "from sklearn.model_selection import train_test_split\n",
    "import category_encoders as ce\n",
    "import numpy as np\n",
    "from sklearn.utils import class_weight"
   ]
  },
  {
   "cell_type": "code",
   "execution_count": 2,
   "id": "e53a26fe-ea82-4707-9c34-4a1e21a0f595",
   "metadata": {},
   "outputs": [],
   "source": [
    "data = pd.read_csv('NF-BoT-IoT.csv')\n",
    "data['IPV4_SRC_ADDR'] = data.IPV4_SRC_ADDR.apply(lambda x: socket.inet_ntoa(struct.pack('>I', random.randint(0xac100001, 0xac1f0001))))\n",
    "data['IPV4_SRC_ADDR'] = data.IPV4_SRC_ADDR.apply(str)\n",
    "data['L4_SRC_PORT'] = data.L4_SRC_PORT.apply(str)\n",
    "data['IPV4_DST_ADDR'] = data.IPV4_DST_ADDR.apply(str)\n",
    "data['L4_DST_PORT'] = data.L4_DST_PORT.apply(str)\n",
    "data['IPV4_SRC_ADDR'] = data['IPV4_SRC_ADDR'] + ':' + data['L4_SRC_PORT']\n",
    "data['IPV4_DST_ADDR'] = data['IPV4_DST_ADDR'] + ':' + data['L4_DST_PORT']\n",
    "data.drop(columns=['L4_SRC_PORT','L4_DST_PORT'],inplace=True)\n",
    "data.drop(columns=['Attack'],inplace = True)\n",
    "data.rename(columns={\"Label\": \"label\"},inplace = True)\n",
    "label = data.label\n",
    "scaler = StandardScaler()\n",
    "X_train, X_test, y_train, y_test = train_test_split(data, label, test_size=0.3, random_state=123,stratify= label)\n",
    "cols_to_norm = list(set(list(X_train.iloc[:, 2:].columns ))  - set(list(['label'])) )\n",
    "\n",
    "X_train[cols_to_norm] = scaler.fit_transform(X_train[cols_to_norm])\n",
    "X_train['h'] = X_train[ cols_to_norm ].values.tolist()\n",
    "G = nx.from_pandas_edgelist(X_train, \"IPV4_SRC_ADDR\", \"IPV4_DST_ADDR\", ['h','label'],create_using=nx.MultiGraph())\n",
    "G = G.to_directed()\n",
    "G = from_networkx(G,edge_attrs=['h','label'] )\n",
    "G.ndata['h'] = th.ones(G.num_nodes(), G.edata['h'].shape[1])\n",
    "\n",
    "X_test[cols_to_norm] = scaler.fit_transform(X_test[cols_to_norm])\n",
    "X_test['h'] = X_test[ cols_to_norm ].values.tolist()\n",
    "G_test = nx.from_pandas_edgelist(X_test, \"IPV4_SRC_ADDR\", \"IPV4_DST_ADDR\", ['h','label'],create_using=nx.MultiGraph())\n",
    "G_test = G_test.to_directed()\n",
    "G_test = from_networkx(G_test,edge_attrs=['h','label'] )\n",
    "G_test.ndata['h'] = th.ones(G_test.num_nodes(), G_test.edata['h'].shape[1])"
   ]
  },
  {
   "cell_type": "code",
   "execution_count": 14,
   "id": "837f006e-b397-4f61-91b6-3e5e46b6c844",
   "metadata": {},
   "outputs": [],
   "source": [
    "dgl.save_graphs('train2_b.bin', [G])"
   ]
  },
  {
   "cell_type": "code",
   "execution_count": 4,
   "id": "b6fdef85-0b1e-4d9e-92cc-581725742198",
   "metadata": {},
   "outputs": [],
   "source": [
    "device = th.device('cuda' if th.cuda.is_available() else 'cpu')"
   ]
  },
  {
   "cell_type": "code",
   "execution_count": 15,
   "id": "4550ca52-a5ff-4e18-af00-bc1596eaa4ca",
   "metadata": {},
   "outputs": [],
   "source": [
    "device = th.device('cuda' if th.cuda.is_available() else 'cpu')\n",
    "graphs, _ = dgl.load_graphs('train2_b.bin')\n",
    "G = graphs[0]"
   ]
  },
  {
   "cell_type": "code",
   "execution_count": 16,
   "id": "e4476d58-66d4-4f79-b683-3b44000fd6c4",
   "metadata": {},
   "outputs": [],
   "source": [
    "G = G.to(device)\n",
    "node_features = G.ndata['h']\n",
    "edge_features = G.edata['h']\n",
    "edge_label = G.edata['label']\n"
   ]
  },
  {
   "cell_type": "code",
   "execution_count": 17,
   "id": "319cdd2e-dc74-4e79-a32e-8219427417ee",
   "metadata": {},
   "outputs": [
    {
     "name": "stdout",
     "output_type": "stream",
     "text": [
      "433094\n",
      "840140\n"
     ]
    }
   ],
   "source": [
    "print(node_features.shape[0])\n",
    "print(edge_features.shape[0])"
   ]
  },
  {
   "cell_type": "code",
   "execution_count": 5,
   "id": "b707448b-a26c-403c-8624-27677d2c9cf6",
   "metadata": {},
   "outputs": [],
   "source": [
    "def compute_accuracy(pred, labels):\n",
    "    return (pred.argmax(1) == labels).float().mean().item()\n",
    "\n",
    "class SAGELayer(nn.Module):\n",
    "    def __init__(self, ndim_in, edims, ndim_out ):\n",
    "        super(SAGELayer, self).__init__()\n",
    "        ### force to outut fix dimensions\n",
    "        self.W_msg = nn.Linear(ndim_in + edims, ndim_out)\n",
    "        ### apply weight\n",
    "        self.W_apply = nn.Linear(ndim_in + ndim_out, ndim_out)\n",
    "        \n",
    "\n",
    "    def message_func(self, edges):\n",
    "        return {'m': self.W_msg(th.cat([edges.data['h'], edges.dst['h']], 1))}\n",
    "\n",
    "    def forward(self, g_dgl, nfeats, efeats):\n",
    "        with g_dgl.local_scope():\n",
    "            g = g_dgl\n",
    "            g.ndata['h'] = nfeats\n",
    "            g.edata['h'] = efeats\n",
    "            # Eq4\n",
    "            g.update_all(self.message_func, fn.mean('m', 'h_neigh'))\n",
    "            # Eq5          \n",
    "            g.ndata['h'] = F.relu(self.W_apply(th.cat([g.ndata['h'], g.ndata['h_neigh']], 1)))\n",
    "            return g.ndata['h']\n",
    "\n",
    "class MLPPredictor(nn.Module):\n",
    "    def __init__(self, in_features, edim, out_classes):\n",
    "        super().__init__()\n",
    "        self.W = nn.Linear(in_features * 2 + edim, out_classes)\n",
    "\n",
    "    def apply_edges(self, edges):\n",
    "        h_u = edges.src['h']\n",
    "        h_v = edges.dst['h']\n",
    "        h_e = edges.data['h']\n",
    "        score = self.W(th.cat([h_u, h_e, h_v], 1))\n",
    "        return {'score': score}\n",
    "\n",
    "    def forward(self, graph, h, efeats):\n",
    "        with graph.local_scope():\n",
    "            graph.ndata['h'] = h\n",
    "            graph.edata['h'] = efeats\n",
    "            graph.apply_edges(self.apply_edges)\n",
    "            return graph.edata['score']\n",
    "\n",
    "class Model(nn.Module):\n",
    "    def __init__(self,  ndim_in, ndim_out, edim):\n",
    "        super().__init__()\n",
    "        self.atten = nn.Parameter(th.randn(1, edim))\n",
    "        self.cov1 = SAGELayer(ndim_in, edim, ndim_out)\n",
    "        self.cov2 = SAGELayer(ndim_out, edim, ndim_out)\n",
    "        self.pred = MLPPredictor(ndim_out, edim, 2)\n",
    "        self.dropout = nn.Dropout(p=0.2)\n",
    "        \n",
    "    def forward(self, g, nfeats, efeats):\n",
    "        efeats = efeats * self.atten\n",
    "        nfeats = F.relu(self.cov1(g, nfeats, efeats))\n",
    "        nfeats = self.dropout(nfeats)\n",
    "        nfeats = F.relu(self.cov2(g, nfeats, efeats))\n",
    "        nfeats = self.dropout(nfeats)\n",
    "        return self.pred(g, nfeats, efeats)\n"
   ]
  },
  {
   "cell_type": "raw",
   "id": "10334eb1-d210-4728-a107-6a1675c76aba",
   "metadata": {},
   "source": [
    "criterion = nn.CrossEntropyLoss()\n",
    "model = Model( G.ndata['h'].shape[1], 64, G.edata['h'].shape[1]).to(device)\n",
    "opt = th.optim.Adam(model.parameters())"
   ]
  },
  {
   "cell_type": "code",
   "execution_count": 7,
   "id": "0450ec57-b185-4984-9efa-4606c2cfb2ad",
   "metadata": {},
   "outputs": [
    {
     "name": "stdout",
     "output_type": "stream",
     "text": [
      "Training acc: 0.579767644405365\n",
      "Training acc: 0.986433207988739\n",
      "Training acc: 0.9868664145469666\n",
      "Training acc: 0.98711758852005\n",
      "Training acc: 0.9870997071266174\n",
      "Training acc: 0.9871389865875244\n",
      "Training acc: 0.987159252166748\n",
      "Training acc: 0.987230658531189\n",
      "Training acc: 0.9873104095458984\n",
      "Training acc: 0.9869937896728516\n",
      "Training acc: 0.9872509241104126\n",
      "Training acc: 0.98727947473526\n",
      "Training acc: 0.987318754196167\n",
      "Training acc: 0.9872972965240479\n",
      "Training acc: 0.987328290939331\n"
     ]
    }
   ],
   "source": [
    "for epoch in range(1500):\n",
    "    pred = model( G, node_features, edge_features)\n",
    "    loss = criterion(pred ,edge_label)\n",
    "    opt.zero_grad()\n",
    "    loss.backward()\n",
    "    opt.step()\n",
    "    if epoch % 100 == 0:\n",
    "      print('Training acc:', compute_accuracy(pred, edge_label))"
   ]
  },
  {
   "cell_type": "code",
   "execution_count": 18,
   "id": "0ac74bd5-dab4-4479-afae-46ca7b7033ec",
   "metadata": {},
   "outputs": [],
   "source": [
    "th.save(model.state_dict(),'A-SAGE-R_b.pth')"
   ]
  },
  {
   "cell_type": "code",
   "execution_count": 8,
   "id": "d63dd1cb-dcc0-421f-b921-1f4733ba5714",
   "metadata": {},
   "outputs": [
    {
     "data": {
      "text/plain": [
       "<All keys matched successfully>"
      ]
     },
     "execution_count": 8,
     "metadata": {},
     "output_type": "execute_result"
    }
   ],
   "source": [
    "model.load_state_dict(th.load('SAGE_b.pth'))"
   ]
  },
  {
   "cell_type": "code",
   "execution_count": 11,
   "id": "13cc7046-5467-42ac-b920-328643e26997",
   "metadata": {},
   "outputs": [],
   "source": [
    "graphs, _ = dgl.load_graphs('test2_b.bin')\n",
    "G_test = graphs[0]"
   ]
  },
  {
   "cell_type": "code",
   "execution_count": 12,
   "id": "5ebeedeb-ca65-4f21-ab34-42a47c6b4b88",
   "metadata": {},
   "outputs": [],
   "source": [
    "G_test = G_test.to(device)\n",
    "node_features_test = G_test.ndata['h']\n",
    "edge_features_test = G_test.edata['h']\n",
    "edge_label_test = G_test.edata['label']\n"
   ]
  },
  {
   "cell_type": "code",
   "execution_count": 13,
   "id": "6f518a16-2601-4a1f-b769-e4e3407b48d6",
   "metadata": {},
   "outputs": [
    {
     "name": "stdout",
     "output_type": "stream",
     "text": [
      "188857\n",
      "360060\n"
     ]
    }
   ],
   "source": [
    "print(node_features_test.shape[0])\n",
    "print(edge_features_test.shape[0])"
   ]
  },
  {
   "cell_type": "code",
   "execution_count": 14,
   "id": "7f485987-7f54-4f01-9511-e41d43ed2d4a",
   "metadata": {},
   "outputs": [
    {
     "name": "stdout",
     "output_type": "stream",
     "text": [
      "Accuracy: 0.9872, Precision: 0.9876, Recall: 0.9994, F1-score: 0.9935\n"
     ]
    }
   ],
   "source": [
    "from sklearn.metrics import accuracy_score, precision_score, recall_score, f1_score\n",
    "out = model( G_test, node_features_test, edge_features_test)\n",
    "out = F.softmax(out, dim=1)\n",
    "_, pred = out.max(dim=1)\n",
    "acc = accuracy_score(edge_label_test.cpu().numpy(), pred.cpu().numpy())\n",
    "precision = precision_score(edge_label_test.cpu().numpy(), pred.cpu().numpy())\n",
    "recall = recall_score(edge_label_test.cpu().numpy(), pred.cpu().numpy())\n",
    "f1 = f1_score(edge_label_test.cpu().numpy(), pred.cpu().numpy())\n",
    "print(f'Accuracy: {acc:.4f}, Precision: {precision:.4f}, Recall: {recall:.4f}, F1-score: {f1:.4f}')"
   ]
  },
  {
   "cell_type": "code",
   "execution_count": null,
   "id": "8839056c-979e-42f9-821c-f9b520fb40b9",
   "metadata": {},
   "outputs": [],
   "source": []
  }
 ],
 "metadata": {
  "kernelspec": {
   "display_name": "Python 3 (ipykernel)",
   "language": "python",
   "name": "python3"
  },
  "language_info": {
   "codemirror_mode": {
    "name": "ipython",
    "version": 3
   },
   "file_extension": ".py",
   "mimetype": "text/x-python",
   "name": "python",
   "nbconvert_exporter": "python",
   "pygments_lexer": "ipython3",
   "version": "3.8.10"
  }
 },
 "nbformat": 4,
 "nbformat_minor": 5
}
